{
  "cells": [
    {
      "cell_type": "markdown",
      "metadata": {
        "id": "view-in-github",
        "colab_type": "text"
      },
      "source": [
        "<a href=\"https://colab.research.google.com/github/PauloHenriqueMelo/2021-2-exercicio-revisao-refatoracao/blob/main/MLP_softmax.ipynb\" target=\"_parent\"><img src=\"https://colab.research.google.com/assets/colab-badge.svg\" alt=\"Open In Colab\"/></a>"
      ]
    },
    {
      "cell_type": "code",
      "source": [
        "import pandas as pd\n",
        "from sklearn.model_selection import train_test_split\n",
        "import numpy as np\n",
        " "
      ],
      "metadata": {
        "id": "7pQKZSR1n622"
      },
      "execution_count": null,
      "outputs": []
    },
    {
      "cell_type": "code",
      "source": [
        "def rbind(df1, df2):\n",
        "    import pandas as pd\n",
        "    return pd.concat([df1, df2], ignore_index = True)\n",
        "\n",
        "def cbind(df1, df2):\n",
        "    import pandas as pd\n",
        "        # Note this does not keep the original indexes of the df's and resets them to 0,1,...\n",
        "    return pd.concat([df1.reset_index(drop=True), df2.reset_index(drop=True)], axis = 1)"
      ],
      "metadata": {
        "id": "2GdhJUoMmYyZ"
      },
      "execution_count": null,
      "outputs": []
    },
    {
      "cell_type": "code",
      "source": [
        "import tensorflow as tf"
      ],
      "metadata": {
        "id": "DirDwANoo5my"
      },
      "execution_count": null,
      "outputs": []
    },
    {
      "cell_type": "code",
      "source": [
        "from keras import models\n",
        "\n",
        "from keras import layers\n",
        "network = models.Sequential()\n",
        "network.add(layers.Dense(512, activation='relu', input_shape=(39,)))\n",
        "network.add(layers.Dense(256, activation='relu', input_shape=(39,)))\n",
        "network.add(layers.Dense(5, activation='softmax'))\n"
      ],
      "metadata": {
        "id": "mx-dm3_MpCJp"
      },
      "execution_count": null,
      "outputs": []
    },
    {
      "cell_type": "code",
      "source": [
        "treino = pd.read_csv(\"/content/sample_data/treino.csv\")\n",
        "validacao = pd.read_csv(\"/content/sample_data/validacao.csv\")\n",
        "#sample = pd.read_csv(\"\\\\content\\\\sample_data\\\\sample.csv\")"
      ],
      "metadata": {
        "id": "VjeoZsnpumHE"
      },
      "execution_count": null,
      "outputs": []
    },
    {
      "cell_type": "code",
      "source": [
        "x_=treino.iloc[:, 1:40].copy()\n",
        "y_=treino.iloc[:, 40:41].copy()\n",
        "validacao=validacao.iloc[:,1:].copy()\n",
        "y_=pd.get_dummies(y_)\n",
        "i=cbind(y_['y_teens'],y_['y_twenties'])\n",
        "i=cbind(i,y_['y_thirties'])\n",
        "i=cbind(i,y_['y_fourties'])\n",
        "i=cbind(i,y_['y_fifties'])\n",
        "mybind= rbind(x_,validacao)\n",
        "mean = mybind.mean(axis=0)\n",
        "std = mybind.std(axis=0)\n",
        "\n",
        "x_ /= std\n",
        "x_ -= mean\n",
        "validacao -= mean\n",
        "validacao /= std\n",
        "\n",
        "X_train, X_test, y_train, y_test = train_test_split(x_, y_, test_size=0.2, random_state=3)"
      ],
      "metadata": {
        "id": "ilMMDylzmFZe"
      },
      "execution_count": null,
      "outputs": []
    },
    {
      "cell_type": "code",
      "source": [
        "network.compile(optimizer='rmsprop',\n",
        "                loss='categorical_crossentropy',\n",
        "                metrics=['accuracy'])\n"
      ],
      "metadata": {
        "id": "r1as4687lk2c"
      },
      "execution_count": null,
      "outputs": []
    },
    {
      "cell_type": "code",
      "source": [
        "network.fit(X_train, y_train, epochs=10, batch_size=128)"
      ],
      "metadata": {
        "id": "2V5dCtv9l9ek",
        "outputId": "f2ee1326-5de4-4436-b6a7-d8d08e6a9bdd",
        "colab": {
          "base_uri": "https://localhost:8080/"
        }
      },
      "execution_count": null,
      "outputs": [
        {
          "output_type": "stream",
          "name": "stdout",
          "text": [
            "Epoch 1/10\n",
            "22/22 [==============================] - 1s 8ms/step - loss: 0.9098 - accuracy: 0.6511\n",
            "Epoch 2/10\n",
            "22/22 [==============================] - 0s 7ms/step - loss: 0.5851 - accuracy: 0.7993\n",
            "Epoch 3/10\n",
            "22/22 [==============================] - 0s 9ms/step - loss: 0.4909 - accuracy: 0.8318\n",
            "Epoch 4/10\n",
            "22/22 [==============================] - 0s 8ms/step - loss: 0.4204 - accuracy: 0.8561\n",
            "Epoch 5/10\n",
            "22/22 [==============================] - 0s 7ms/step - loss: 0.3547 - accuracy: 0.8818\n",
            "Epoch 6/10\n",
            "22/22 [==============================] - 0s 7ms/step - loss: 0.3023 - accuracy: 0.8982\n",
            "Epoch 7/10\n",
            "22/22 [==============================] - 0s 8ms/step - loss: 0.2693 - accuracy: 0.9107\n",
            "Epoch 8/10\n",
            "22/22 [==============================] - 0s 7ms/step - loss: 0.2303 - accuracy: 0.9271\n",
            "Epoch 9/10\n",
            "22/22 [==============================] - 0s 8ms/step - loss: 0.1910 - accuracy: 0.9454\n",
            "Epoch 10/10\n",
            "22/22 [==============================] - 0s 8ms/step - loss: 0.1792 - accuracy: 0.9457\n"
          ]
        },
        {
          "output_type": "execute_result",
          "data": {
            "text/plain": [
              "<keras.callbacks.History at 0x7fbef8945950>"
            ]
          },
          "metadata": {},
          "execution_count": 55
        }
      ]
    },
    {
      "cell_type": "code",
      "source": [
        "test_loss, test_acc = network.evaluate(X_test, y_test)\n",
        "print('test_acc:', test_acc)"
      ],
      "metadata": {
        "id": "L6pi4wJNnEZS",
        "outputId": "fc24f91d-360b-4d9a-ea0a-588bf4f7bc38",
        "colab": {
          "base_uri": "https://localhost:8080/"
        }
      },
      "execution_count": null,
      "outputs": [
        {
          "output_type": "stream",
          "name": "stdout",
          "text": [
            "22/22 [==============================] - 0s 2ms/step - loss: 0.4026 - accuracy: 0.8686\n",
            "test_acc: 0.868571400642395\n"
          ]
        }
      ]
    }
  ],
  "metadata": {
    "colab": {
      "provenance": [],
      "include_colab_link": true
    },
    "kernelspec": {
      "display_name": "Python 3",
      "name": "python3"
    }
  },
  "nbformat": 4,
  "nbformat_minor": 0
}